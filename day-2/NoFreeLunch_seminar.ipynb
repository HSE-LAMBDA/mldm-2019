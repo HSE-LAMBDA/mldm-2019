{
  "nbformat": 4,
  "nbformat_minor": 0,
  "metadata": {
    "colab": {
      "name": "NoFreeLunch-seminar.ipynb",
      "version": "0.3.2",
      "provenance": [],
      "collapsed_sections": [],
      "include_colab_link": true
    },
    "kernelspec": {
      "name": "python3",
      "display_name": "Python 3"
    }
  },
  "cells": [
    {
      "cell_type": "markdown",
      "metadata": {
        "id": "view-in-github",
        "colab_type": "text"
      },
      "source": [
        "<a href=\"https://colab.research.google.com/github/HSE-LAMBDA/mldm-2019/blob/master/day-2/NoFreeLunch_seminar.ipynb\" target=\"_parent\"><img src=\"https://colab.research.google.com/assets/colab-badge.svg\" alt=\"Open In Colab\"/></a>"
      ]
    },
    {
      "cell_type": "markdown",
      "metadata": {
        "id": "cECDEWzf-TPu",
        "colab_type": "text"
      },
      "source": [
        "# Can you solve a supervised learning task with no knowledge about the nature of the data?"
      ]
    },
    {
      "cell_type": "code",
      "metadata": {
        "id": "7vEYDLg68xBX",
        "colab_type": "code",
        "colab": {}
      },
      "source": [
        "!wget https://github.com/HSE-LAMBDA/mldm-2019/raw/master/day-2/data_test.csv\n",
        "!wget https://github.com/HSE-LAMBDA/mldm-2019/raw/master/day-2/data_train.csv"
      ],
      "execution_count": 0,
      "outputs": []
    },
    {
      "cell_type": "code",
      "metadata": {
        "id": "CBWEv2qn8TPA",
        "colab_type": "code",
        "colab": {}
      },
      "source": [
        "import numpy as np\n",
        "import pandas as pd"
      ],
      "execution_count": 0,
      "outputs": []
    },
    {
      "cell_type": "code",
      "metadata": {
        "id": "qVxh9YoZ9AW6",
        "colab_type": "code",
        "colab": {}
      },
      "source": [
        "from sklearn.linear_model import LinearRegression\n",
        "from sklearn.neighbors import KNeighborsRegressor\n",
        "from sklearn.ensemble import RandomForestRegressor\n",
        "\n",
        "from sklearn.metrics import mean_squared_error\n",
        "from sklearn.preprocessing import RobustScaler\n",
        "from sklearn.pipeline import Pipeline"
      ],
      "execution_count": 0,
      "outputs": []
    },
    {
      "cell_type": "code",
      "metadata": {
        "id": "o-2DAzhy9IJq",
        "colab_type": "code",
        "colab": {}
      },
      "source": [
        "df_train = pd.read_csv('data_train.csv', index_col=None)\n",
        "df_test  = pd.read_csv('data_test.csv' , index_col=None)\n",
        "\n",
        "X_train = df_train[['x0', 'x1']].values\n",
        "y_train = df_train['y'].values\n",
        "X_test  = df_test [['x0', 'x1']].values\n",
        "y_test  = df_test ['y'].values"
      ],
      "execution_count": 0,
      "outputs": []
    },
    {
      "cell_type": "code",
      "metadata": {
        "id": "92JeqHAE9PtL",
        "colab_type": "code",
        "colab": {}
      },
      "source": [
        "def test_model(model, preprocess=lambda X: X):\n",
        "  model = Pipeline([('scaler', RobustScaler()), ('estimator', model)])\n",
        "  y_scaler = RobustScaler()\n",
        "  model.fit(preprocess(X_train), y_scaler.fit_transform(y_train[:,np.newaxis]).reshape(-1))\n",
        "\n",
        "  mse_train = mean_squared_error(y_train, y_scaler.inverse_transform(model.predict(preprocess(X_train))[:,np.newaxis] ))\n",
        "  mse_test  = mean_squared_error(y_test , y_scaler.inverse_transform(model.predict(preprocess(X_test ))[:,np.newaxis] ))\n",
        "\n",
        "  return mse_train**0.5, mse_test**0.5"
      ],
      "execution_count": 0,
      "outputs": []
    },
    {
      "cell_type": "code",
      "metadata": {
        "id": "DYz3HBOX979n",
        "colab_type": "code",
        "colab": {}
      },
      "source": [
        "models = [\n",
        "    ('LinearRegression(),', LinearRegression()),\n",
        "    ('KNeighborsRegressor(n_neighbors=1),', KNeighborsRegressor(n_neighbors=1)),\n",
        "    ('KNeighborsRegressor(n_neighbors=5),', KNeighborsRegressor(n_neighbors=5)),\n",
        "    ('KNeighborsRegressor(n_neighbors=10),', KNeighborsRegressor(n_neighbors=10)),\n",
        "    ('RandomForestRegressor(n_estimators=50, min_samples_split=2),', RandomForestRegressor(n_estimators=50, min_samples_split=2)),\n",
        "    ('RandomForestRegressor(n_estimators=50, min_samples_split=5),', RandomForestRegressor(n_estimators=50, min_samples_split=5)),\n",
        "    ('RandomForestRegressor(n_estimators=50, min_samples_split=10),', RandomForestRegressor(n_estimators=50, min_samples_split=10)),\n",
        "]\n",
        "\n",
        "scores = [test_model(m) for _, m in models]\n",
        "\n",
        "for (m, _), (score_train, score_test) in zip(models, scores):\n",
        "  print(m)\n",
        "  print(\"        RMSE (train): {:.4}\".format(score_train))\n",
        "  print(\"        RMSE (test):  {:.4}\".format(score_test ))"
      ],
      "execution_count": 0,
      "outputs": []
    },
    {
      "cell_type": "markdown",
      "metadata": {
        "id": "aonzsaS3-wBc",
        "colab_type": "text"
      },
      "source": [
        "**Can you get an RMSE below 0.01?**"
      ]
    },
    {
      "cell_type": "code",
      "metadata": {
        "id": "ao767ncd-_7_",
        "colab_type": "code",
        "colab": {}
      },
      "source": [
        ""
      ],
      "execution_count": 0,
      "outputs": []
    }
  ]
}