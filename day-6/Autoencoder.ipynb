{
  "nbformat": 4,
  "nbformat_minor": 0,
  "metadata": {
    "colab": {
      "name": "Autoencoder.ipynb",
      "provenance": [],
      "collapsed_sections": [],
      "toc_visible": true,
      "include_colab_link": true
    },
    "kernelspec": {
      "name": "python3",
      "display_name": "Python 3"
    },
    "accelerator": "GPU"
  },
  "cells": [
    {
      "cell_type": "markdown",
      "metadata": {
        "id": "view-in-github",
        "colab_type": "text"
      },
      "source": [
        "<a href=\"https://colab.research.google.com/github/HSE-LAMBDA/mldm-2019/blob/master/day-6/Autoencoder.ipynb\" target=\"_parent\"><img src=\"https://colab.research.google.com/assets/colab-badge.svg\" alt=\"Open In Colab\"/></a>"
      ]
    },
    {
      "cell_type": "markdown",
      "metadata": {
        "id": "hLFslUEjAQV-",
        "colab_type": "text"
      },
      "source": [
        "# Autoencoder example"
      ]
    },
    {
      "cell_type": "markdown",
      "metadata": {
        "id": "BqjmKz_qATNL",
        "colab_type": "text"
      },
      "source": [
        "In this example we'll show how an auto-encoder can help when labeled data is limited. Will take the MNIST data keeping only the labels of first 300 examples (out of 60000)."
      ]
    },
    {
      "cell_type": "code",
      "metadata": {
        "id": "oVHvLYbQyEQs",
        "colab_type": "code",
        "outputId": "6b8d996f-e235-4d32-e30d-346d107704d3",
        "colab": {
          "base_uri": "https://localhost:8080/",
          "height": 51
        }
      },
      "source": [
        "%tensorflow_version 2.x\n",
        "\n",
        "import tensorflow as tf\n",
        "tf.__version__"
      ],
      "execution_count": 0,
      "outputs": [
        {
          "output_type": "stream",
          "text": [
            "TensorFlow 2.x selected.\n"
          ],
          "name": "stdout"
        },
        {
          "output_type": "execute_result",
          "data": {
            "text/plain": [
              "'2.0.0-rc2'"
            ]
          },
          "metadata": {
            "tags": []
          },
          "execution_count": 1
        }
      ]
    },
    {
      "cell_type": "markdown",
      "metadata": {
        "id": "ORQkf4J0Ablq",
        "colab_type": "text"
      },
      "source": [
        "Load and preprocess the data (as numpy arrays):"
      ]
    },
    {
      "cell_type": "code",
      "metadata": {
        "id": "91UFnB0FyaUA",
        "colab_type": "code",
        "outputId": "6ccbde09-ce21-483f-bee9-6a11929cb309",
        "colab": {
          "base_uri": "https://localhost:8080/",
          "height": 51
        }
      },
      "source": [
        "(X_train, y_train), (X_test, y_test) = tf.keras.datasets.mnist.load_data()\n",
        "X_train = (X_train / 255).astype('float32')\n",
        "X_test  = (X_test  / 255).astype('float32')"
      ],
      "execution_count": 0,
      "outputs": [
        {
          "output_type": "stream",
          "text": [
            "Downloading data from https://storage.googleapis.com/tensorflow/tf-keras-datasets/mnist.npz\n",
            "11493376/11490434 [==============================] - 0s 0us/step\n"
          ],
          "name": "stdout"
        }
      ]
    },
    {
      "cell_type": "markdown",
      "metadata": {
        "id": "vU8aXx0iAfy1",
        "colab_type": "text"
      },
      "source": [
        "Basic autoencoder architecture:"
      ]
    },
    {
      "cell_type": "code",
      "metadata": {
        "id": "pZLrAP33y0Sx",
        "colab_type": "code",
        "outputId": "e32093da-53ca-46ca-bd29-2688adf5da16",
        "colab": {
          "base_uri": "https://localhost:8080/",
          "height": 221
        }
      },
      "source": [
        "ll = tf.keras.layers\n",
        "activation = tf.nn.relu\n",
        "\n",
        "encoder = tf.keras.Sequential([\n",
        "    ll.Reshape((1, 28, 28), input_shape=(28, 28)),\n",
        "\n",
        "    ll.Conv2D(16, 3, padding='same', data_format='channels_first', activation=activation),\n",
        "    ll.MaxPool2D(data_format='channels_first'), # 14x14\n",
        "\n",
        "    ll.Conv2D(32, 3, padding='same', data_format='channels_first', activation=activation),\n",
        "    ll.MaxPool2D(data_format='channels_first'), # 7x7\n",
        "\n",
        "    ll.Conv2D(64, 3, padding='valid', data_format='channels_first', activation=activation), # 5x5\n",
        "    ll.Conv2D(128, 3, padding='valid', data_format='channels_first', activation=activation), # 3x3\n",
        "    ll.Conv2D(256, 3, padding='valid', data_format='channels_first', activation=activation), # 1x1\n",
        "    ll.Conv2D(32, 1, padding='same', data_format='channels_first', activation=activation),\n",
        "\n",
        "    ll.Reshape((32,))\n",
        "  ],\n",
        "  name='encoder')\n",
        "\n",
        "decoder = tf.keras.Sequential([\n",
        "    ll.Reshape((32, 1, 1), input_shape=(32,)),\n",
        "\n",
        "    ll.UpSampling2D(data_format='channels_first'), # 2x2\n",
        "    ll.Conv2D(256, 3, padding='same', data_format='channels_first', activation=activation),\n",
        "\n",
        "    ll.UpSampling2D(data_format='channels_first'), # 4x4\n",
        "    ll.Conv2D(128, 3, padding='same', data_format='channels_first', activation=activation),\n",
        "\n",
        "    ll.UpSampling2D(data_format='channels_first'), # 8x8\n",
        "    ll.Conv2D(64, 3, padding='same', data_format='channels_first', activation=activation),\n",
        "\n",
        "    ll.UpSampling2D(data_format='channels_first'), # 16x16\n",
        "    ll.Conv2D(32, 3, padding='valid', data_format='channels_first', activation=activation), # 14x14\n",
        "\n",
        "    ll.UpSampling2D(data_format='channels_first'), # 28x28\n",
        "    ll.Conv2D(16, 3, padding='same', data_format='channels_first', activation=activation),\n",
        "    ll.Conv2D(1, 1, padding='valid', data_format='channels_first', activation=tf.nn.relu),\n",
        "\n",
        "    ll.Reshape((28, 28))\n",
        "  ],\n",
        "  name='decoder')\n",
        "\n",
        "encoder.save('encoder_untrained.h5')\n",
        "\n",
        "autoencoder = tf.keras.Sequential([\n",
        "  encoder,\n",
        "  decoder\n",
        "])\n",
        "\n",
        "autoencoder.summary()\n",
        "autoencoder.compile(optimizer=tf.optimizers.Adam(learning_rate=0.003), loss=tf.keras.losses.MSE)"
      ],
      "execution_count": 0,
      "outputs": [
        {
          "output_type": "stream",
          "text": [
            "Model: \"sequential\"\n",
            "_________________________________________________________________\n",
            "Layer (type)                 Output Shape              Param #   \n",
            "=================================================================\n",
            "encoder (Sequential)         (None, 32)                400544    \n",
            "_________________________________________________________________\n",
            "decoder (Sequential)         (None, 28, 28)            465921    \n",
            "=================================================================\n",
            "Total params: 866,465\n",
            "Trainable params: 866,465\n",
            "Non-trainable params: 0\n",
            "_________________________________________________________________\n"
          ],
          "name": "stdout"
        }
      ]
    },
    {
      "cell_type": "markdown",
      "metadata": {
        "id": "TmpG6LSzA-H5",
        "colab_type": "text"
      },
      "source": [
        "Trainign it on the whole train dataset (note that `X_train` is both inputs and targets for the autoencoder, i.e. we are not using the labels `y_train`):"
      ]
    },
    {
      "cell_type": "code",
      "metadata": {
        "id": "N2w81dMJ5f04",
        "colab_type": "code",
        "outputId": "bdf744ec-a462-4759-fa80-95c6106a07c3",
        "colab": {
          "base_uri": "https://localhost:8080/",
          "height": 578
        }
      },
      "source": [
        "autoencoder.fit(x=X_train, y=X_train, batch_size=256, epochs=16, validation_data=(X_test, X_test));"
      ],
      "execution_count": 0,
      "outputs": [
        {
          "output_type": "stream",
          "text": [
            "Train on 60000 samples, validate on 10000 samples\n",
            "Epoch 1/16\n",
            "60000/60000 [==============================] - 16s 267us/sample - loss: 0.0681 - val_loss: 0.0566\n",
            "Epoch 2/16\n",
            "60000/60000 [==============================] - 11s 177us/sample - loss: 0.0425 - val_loss: 0.0288\n",
            "Epoch 3/16\n",
            "60000/60000 [==============================] - 11s 177us/sample - loss: 0.0256 - val_loss: 0.0205\n",
            "Epoch 4/16\n",
            "60000/60000 [==============================] - 11s 178us/sample - loss: 0.0193 - val_loss: 0.0178\n",
            "Epoch 5/16\n",
            "60000/60000 [==============================] - 11s 177us/sample - loss: 0.0168 - val_loss: 0.0157\n",
            "Epoch 6/16\n",
            "60000/60000 [==============================] - 11s 177us/sample - loss: 0.0152 - val_loss: 0.0139\n",
            "Epoch 7/16\n",
            "60000/60000 [==============================] - 11s 176us/sample - loss: 0.0139 - val_loss: 0.0142\n",
            "Epoch 8/16\n",
            "60000/60000 [==============================] - 11s 176us/sample - loss: 0.0129 - val_loss: 0.0122\n",
            "Epoch 9/16\n",
            "60000/60000 [==============================] - 11s 178us/sample - loss: 0.0122 - val_loss: 0.0117\n",
            "Epoch 10/16\n",
            "60000/60000 [==============================] - 11s 179us/sample - loss: 0.0115 - val_loss: 0.0111\n",
            "Epoch 11/16\n",
            "60000/60000 [==============================] - 11s 177us/sample - loss: 0.0111 - val_loss: 0.0105\n",
            "Epoch 12/16\n",
            "60000/60000 [==============================] - 11s 176us/sample - loss: 0.0104 - val_loss: 0.0101\n",
            "Epoch 13/16\n",
            "60000/60000 [==============================] - 11s 178us/sample - loss: 0.0101 - val_loss: 0.0111\n",
            "Epoch 14/16\n",
            "60000/60000 [==============================] - 11s 178us/sample - loss: 0.0098 - val_loss: 0.0097\n",
            "Epoch 15/16\n",
            "60000/60000 [==============================] - 11s 178us/sample - loss: 0.0095 - val_loss: 0.0095\n",
            "Epoch 16/16\n",
            "60000/60000 [==============================] - 11s 176us/sample - loss: 0.0092 - val_loss: 0.0089\n"
          ],
          "name": "stdout"
        }
      ]
    },
    {
      "cell_type": "markdown",
      "metadata": {
        "id": "JYpVWaaCBLLC",
        "colab_type": "text"
      },
      "source": [
        "Some plotting code:"
      ]
    },
    {
      "cell_type": "code",
      "metadata": {
        "id": "cA72rNfw5yBw",
        "colab_type": "code",
        "colab": {}
      },
      "source": [
        "import matplotlib.pyplot as plt"
      ],
      "execution_count": 0,
      "outputs": []
    },
    {
      "cell_type": "code",
      "metadata": {
        "id": "dwNCF8Mv6bmU",
        "colab_type": "code",
        "outputId": "a89a9c76-d424-4911-ca0b-1dfeaf292adb",
        "colab": {
          "base_uri": "https://localhost:8080/",
          "height": 269
        }
      },
      "source": [
        "plt.plot(autoencoder.history.history['loss'], label='train loss')\n",
        "plt.plot(autoencoder.history.history['val_loss'], label='test loss')\n",
        "plt.legend()\n",
        "plt.show();"
      ],
      "execution_count": 0,
      "outputs": [
        {
          "output_type": "display_data",
          "data": {
            "image/png": "[encoded data removed]",
            "text/plain": [
              "<Figure size 432x288 with 1 Axes>"
            ]
          },
          "metadata": {
            "tags": []
          }
        }
      ]
    },
    {
      "cell_type": "markdown",
      "metadata": {
        "id": "75c3YT2aBN3p",
        "colab_type": "text"
      },
      "source": [
        "Now we'll use the encoder to train a classifier on its outputs. We don't want to update the encoder's weights anymore:"
      ]
    },
    {
      "cell_type": "code",
      "metadata": {
        "id": "Ah9prSd77tXP",
        "colab_type": "code",
        "colab": {}
      },
      "source": [
        "encoder.trainable = False"
      ],
      "execution_count": 0,
      "outputs": []
    },
    {
      "cell_type": "code",
      "metadata": {
        "id": "9NZu6dTI72Ye",
        "colab_type": "code",
        "outputId": "0ceaa616-5d85-45fe-c28f-793c975a7db9",
        "colab": {
          "base_uri": "https://localhost:8080/",
          "height": 221
        }
      },
      "source": [
        "classifier = tf.keras.Sequential([\n",
        "    encoder,\n",
        "    ll.Dense(10),\n",
        "  ],\n",
        "  name='classifier')\n",
        "\n",
        "classifier.summary()\n",
        "classifier.compile(optimizer=tf.optimizers.Adam(learning_rate=0.05), loss=tf.losses.SparseCategoricalCrossentropy(from_logits=True),\n",
        "                   metrics=[tf.metrics.SparseCategoricalAccuracy()])"
      ],
      "execution_count": 0,
      "outputs": [
        {
          "output_type": "stream",
          "text": [
            "Model: \"classifier\"\n",
            "_________________________________________________________________\n",
            "Layer (type)                 Output Shape              Param #   \n",
            "=================================================================\n",
            "encoder (Sequential)         (None, 32)                400544    \n",
            "_________________________________________________________________\n",
            "dense (Dense)                (None, 10)                330       \n",
            "=================================================================\n",
            "Total params: 400,874\n",
            "Trainable params: 330\n",
            "Non-trainable params: 400,544\n",
            "_________________________________________________________________\n"
          ],
          "name": "stdout"
        }
      ]
    },
    {
      "cell_type": "markdown",
      "metadata": {
        "id": "YU0q6A-dBawA",
        "colab_type": "text"
      },
      "source": [
        "Now let's fit the classifier on first 300 labeled objects:"
      ]
    },
    {
      "cell_type": "code",
      "metadata": {
        "id": "qzJe7qVq9UEN",
        "colab_type": "code",
        "outputId": "cba92171-6fe3-46d8-9443-0f7e4447f9c7",
        "colab": {
          "base_uri": "https://localhost:8080/",
          "height": 1000
        }
      },
      "source": [
        "classifier.fit(x=X_train[:300], y=y_train[:300], batch_size=128, epochs=50, validation_data=(X_test, y_test));"
      ],
      "execution_count": 0,
      "outputs": [
        {
          "output_type": "stream",
          "text": [
            "Train on 300 samples, validate on 10000 samples\n",
            "Epoch 1/50\n",
            "300/300 [==============================] - 2s 7ms/sample - loss: 2.6811 - sparse_categorical_accuracy: 0.0700 - val_loss: 2.3202 - val_sparse_categorical_accuracy: 0.1127\n",
            "Epoch 2/50\n",
            "300/300 [==============================] - 0s 1ms/sample - loss: 2.2586 - sparse_categorical_accuracy: 0.1500 - val_loss: 2.1414 - val_sparse_categorical_accuracy: 0.2438\n",
            "Epoch 3/50\n",
            "300/300 [==============================] - 0s 1ms/sample - loss: 1.9659 - sparse_categorical_accuracy: 0.3100 - val_loss: 1.8095 - val_sparse_categorical_accuracy: 0.5189\n",
            "Epoch 4/50\n",
            "300/300 [==============================] - 0s 1ms/sample - loss: 1.6987 - sparse_categorical_accuracy: 0.6100 - val_loss: 1.6405 - val_sparse_categorical_accuracy: 0.5515\n",
            "Epoch 5/50\n",
            "300/300 [==============================] - 0s 1ms/sample - loss: 1.4962 - sparse_categorical_accuracy: 0.7067 - val_loss: 1.4489 - val_sparse_categorical_accuracy: 0.7649\n",
            "Epoch 6/50\n",
            "300/300 [==============================] - 0s 1ms/sample - loss: 1.2824 - sparse_categorical_accuracy: 0.8433 - val_loss: 1.3078 - val_sparse_categorical_accuracy: 0.7516\n",
            "Epoch 7/50\n",
            "300/300 [==============================] - 0s 1ms/sample - loss: 1.1298 - sparse_categorical_accuracy: 0.8400 - val_loss: 1.1870 - val_sparse_categorical_accuracy: 0.7662\n",
            "Epoch 8/50\n",
            "300/300 [==============================] - 0s 1ms/sample - loss: 0.9938 - sparse_categorical_accuracy: 0.8900 - val_loss: 1.0766 - val_sparse_categorical_accuracy: 0.7982\n",
            "Epoch 9/50\n",
            "300/300 [==============================] - 0s 1ms/sample - loss: 0.8827 - sparse_categorical_accuracy: 0.8900 - val_loss: 0.9760 - val_sparse_categorical_accuracy: 0.8255\n",
            "Epoch 10/50\n",
            "300/300 [==============================] - 0s 1ms/sample - loss: 0.7884 - sparse_categorical_accuracy: 0.8967 - val_loss: 0.8826 - val_sparse_categorical_accuracy: 0.8526\n",
            "Epoch 11/50\n",
            "300/300 [==============================] - 0s 1ms/sample - loss: 0.7176 - sparse_categorical_accuracy: 0.9100 - val_loss: 0.8163 - val_sparse_categorical_accuracy: 0.8626\n",
            "Epoch 12/50\n",
            "300/300 [==============================] - 0s 1ms/sample - loss: 0.6490 - sparse_categorical_accuracy: 0.9300 - val_loss: 0.7731 - val_sparse_categorical_accuracy: 0.8548\n",
            "Epoch 13/50\n",
            "300/300 [==============================] - 0s 1ms/sample - loss: 0.5984 - sparse_categorical_accuracy: 0.9233 - val_loss: 0.7423 - val_sparse_categorical_accuracy: 0.8472\n",
            "Epoch 14/50\n",
            "300/300 [==============================] - 0s 2ms/sample - loss: 0.5586 - sparse_categorical_accuracy: 0.9167 - val_loss: 0.7037 - val_sparse_categorical_accuracy: 0.8516\n",
            "Epoch 15/50\n",
            "300/300 [==============================] - 0s 2ms/sample - loss: 0.5206 - sparse_categorical_accuracy: 0.9100 - val_loss: 0.6669 - val_sparse_categorical_accuracy: 0.8585\n",
            "Epoch 16/50\n",
            "300/300 [==============================] - 0s 2ms/sample - loss: 0.4882 - sparse_categorical_accuracy: 0.9233 - val_loss: 0.6206 - val_sparse_categorical_accuracy: 0.8766\n",
            "Epoch 17/50\n",
            "300/300 [==============================] - 0s 2ms/sample - loss: 0.4585 - sparse_categorical_accuracy: 0.9300 - val_loss: 0.5988 - val_sparse_categorical_accuracy: 0.8796\n",
            "Epoch 18/50\n",
            "300/300 [==============================] - 0s 2ms/sample - loss: 0.4386 - sparse_categorical_accuracy: 0.9333 - val_loss: 0.5904 - val_sparse_categorical_accuracy: 0.8737\n",
            "Epoch 19/50\n",
            "300/300 [==============================] - 0s 1ms/sample - loss: 0.4199 - sparse_categorical_accuracy: 0.9333 - val_loss: 0.5716 - val_sparse_categorical_accuracy: 0.8743\n",
            "Epoch 20/50\n",
            "300/300 [==============================] - 0s 2ms/sample - loss: 0.4000 - sparse_categorical_accuracy: 0.9333 - val_loss: 0.5510 - val_sparse_categorical_accuracy: 0.8778\n",
            "Epoch 21/50\n",
            "300/300 [==============================] - 0s 2ms/sample - loss: 0.3845 - sparse_categorical_accuracy: 0.9300 - val_loss: 0.5367 - val_sparse_categorical_accuracy: 0.8797\n",
            "Epoch 22/50\n",
            "300/300 [==============================] - 0s 2ms/sample - loss: 0.3698 - sparse_categorical_accuracy: 0.9333 - val_loss: 0.5180 - val_sparse_categorical_accuracy: 0.8839\n",
            "Epoch 23/50\n",
            "300/300 [==============================] - 0s 2ms/sample - loss: 0.3568 - sparse_categorical_accuracy: 0.9333 - val_loss: 0.5062 - val_sparse_categorical_accuracy: 0.8847\n",
            "Epoch 24/50\n",
            "300/300 [==============================] - 0s 2ms/sample - loss: 0.3438 - sparse_categorical_accuracy: 0.9400 - val_loss: 0.5025 - val_sparse_categorical_accuracy: 0.8829\n",
            "Epoch 25/50\n",
            "300/300 [==============================] - 0s 2ms/sample - loss: 0.3354 - sparse_categorical_accuracy: 0.9367 - val_loss: 0.4940 - val_sparse_categorical_accuracy: 0.8853\n",
            "Epoch 26/50\n",
            "300/300 [==============================] - 0s 2ms/sample - loss: 0.3280 - sparse_categorical_accuracy: 0.9333 - val_loss: 0.4838 - val_sparse_categorical_accuracy: 0.8872\n",
            "Epoch 27/50\n",
            "300/300 [==============================] - 0s 2ms/sample - loss: 0.3164 - sparse_categorical_accuracy: 0.9367 - val_loss: 0.4780 - val_sparse_categorical_accuracy: 0.8849\n",
            "Epoch 28/50\n",
            "300/300 [==============================] - 0s 2ms/sample - loss: 0.3064 - sparse_categorical_accuracy: 0.9367 - val_loss: 0.4724 - val_sparse_categorical_accuracy: 0.8854\n",
            "Epoch 29/50\n",
            "300/300 [==============================] - 0s 2ms/sample - loss: 0.2997 - sparse_categorical_accuracy: 0.9433 - val_loss: 0.4625 - val_sparse_categorical_accuracy: 0.8867\n",
            "Epoch 30/50\n",
            "300/300 [==============================] - 0s 2ms/sample - loss: 0.2925 - sparse_categorical_accuracy: 0.9433 - val_loss: 0.4529 - val_sparse_categorical_accuracy: 0.8909\n",
            "Epoch 31/50\n",
            "300/300 [==============================] - 0s 2ms/sample - loss: 0.2852 - sparse_categorical_accuracy: 0.9367 - val_loss: 0.4469 - val_sparse_categorical_accuracy: 0.8910\n",
            "Epoch 32/50\n",
            "300/300 [==============================] - 0s 2ms/sample - loss: 0.2771 - sparse_categorical_accuracy: 0.9400 - val_loss: 0.4460 - val_sparse_categorical_accuracy: 0.8881\n",
            "Epoch 33/50\n",
            "300/300 [==============================] - 0s 1ms/sample - loss: 0.2740 - sparse_categorical_accuracy: 0.9467 - val_loss: 0.4437 - val_sparse_categorical_accuracy: 0.8866\n",
            "Epoch 34/50\n",
            "300/300 [==============================] - 0s 2ms/sample - loss: 0.2705 - sparse_categorical_accuracy: 0.9500 - val_loss: 0.4338 - val_sparse_categorical_accuracy: 0.8886\n",
            "Epoch 35/50\n",
            "300/300 [==============================] - 0s 2ms/sample - loss: 0.2629 - sparse_categorical_accuracy: 0.9500 - val_loss: 0.4275 - val_sparse_categorical_accuracy: 0.8915\n",
            "Epoch 36/50\n",
            "300/300 [==============================] - 0s 2ms/sample - loss: 0.2584 - sparse_categorical_accuracy: 0.9533 - val_loss: 0.4223 - val_sparse_categorical_accuracy: 0.8925\n",
            "Epoch 37/50\n",
            "300/300 [==============================] - 0s 2ms/sample - loss: 0.2530 - sparse_categorical_accuracy: 0.9533 - val_loss: 0.4193 - val_sparse_categorical_accuracy: 0.8946\n",
            "Epoch 38/50\n",
            "300/300 [==============================] - 0s 2ms/sample - loss: 0.2500 - sparse_categorical_accuracy: 0.9467 - val_loss: 0.4239 - val_sparse_categorical_accuracy: 0.8897\n",
            "Epoch 39/50\n",
            "300/300 [==============================] - 0s 2ms/sample - loss: 0.2440 - sparse_categorical_accuracy: 0.9500 - val_loss: 0.4104 - val_sparse_categorical_accuracy: 0.8926\n",
            "Epoch 40/50\n",
            "300/300 [==============================] - 0s 2ms/sample - loss: 0.2378 - sparse_categorical_accuracy: 0.9567 - val_loss: 0.4052 - val_sparse_categorical_accuracy: 0.8937\n",
            "Epoch 41/50\n",
            "300/300 [==============================] - 0s 2ms/sample - loss: 0.2368 - sparse_categorical_accuracy: 0.9533 - val_loss: 0.4030 - val_sparse_categorical_accuracy: 0.8943\n",
            "Epoch 42/50\n",
            "300/300 [==============================] - 0s 2ms/sample - loss: 0.2322 - sparse_categorical_accuracy: 0.9567 - val_loss: 0.4011 - val_sparse_categorical_accuracy: 0.8961\n",
            "Epoch 43/50\n",
            "300/300 [==============================] - 0s 2ms/sample - loss: 0.2267 - sparse_categorical_accuracy: 0.9600 - val_loss: 0.3996 - val_sparse_categorical_accuracy: 0.8949\n",
            "Epoch 44/50\n",
            "300/300 [==============================] - 0s 2ms/sample - loss: 0.2254 - sparse_categorical_accuracy: 0.9533 - val_loss: 0.3987 - val_sparse_categorical_accuracy: 0.8941\n",
            "Epoch 45/50\n",
            "300/300 [==============================] - 0s 2ms/sample - loss: 0.2206 - sparse_categorical_accuracy: 0.9533 - val_loss: 0.3941 - val_sparse_categorical_accuracy: 0.8970\n",
            "Epoch 46/50\n",
            "300/300 [==============================] - 0s 2ms/sample - loss: 0.2173 - sparse_categorical_accuracy: 0.9533 - val_loss: 0.3952 - val_sparse_categorical_accuracy: 0.8954\n",
            "Epoch 47/50\n",
            "300/300 [==============================] - 0s 2ms/sample - loss: 0.2154 - sparse_categorical_accuracy: 0.9600 - val_loss: 0.3881 - val_sparse_categorical_accuracy: 0.8975\n",
            "Epoch 48/50\n",
            "300/300 [==============================] - 0s 2ms/sample - loss: 0.2116 - sparse_categorical_accuracy: 0.9567 - val_loss: 0.3816 - val_sparse_categorical_accuracy: 0.8973\n",
            "Epoch 49/50\n",
            "300/300 [==============================] - 0s 2ms/sample - loss: 0.2077 - sparse_categorical_accuracy: 0.9567 - val_loss: 0.3789 - val_sparse_categorical_accuracy: 0.8976\n",
            "Epoch 50/50\n",
            "300/300 [==============================] - 0s 2ms/sample - loss: 0.2045 - sparse_categorical_accuracy: 0.9633 - val_loss: 0.3759 - val_sparse_categorical_accuracy: 0.9008\n"
          ],
          "name": "stdout"
        }
      ]
    },
    {
      "cell_type": "markdown",
      "metadata": {
        "id": "LA5OCr-KButF",
        "colab_type": "text"
      },
      "source": [
        "We got test accuracy up to 90% by training on just 300 objects! Note that there is 10000 objects in the test set."
      ]
    },
    {
      "cell_type": "code",
      "metadata": {
        "id": "1uBxiqLS9lba",
        "colab_type": "code",
        "outputId": "0cf61740-b1f3-4839-d88a-f640c90cbae3",
        "colab": {
          "base_uri": "https://localhost:8080/",
          "height": 444
        }
      },
      "source": [
        "plt.figure(figsize=(16, 7))\n",
        "plt.subplot(1, 2, 1)\n",
        "plt.plot(classifier.history.history['loss'], label='train')\n",
        "plt.plot(classifier.history.history['val_loss'], label='test')\n",
        "plt.legend()\n",
        "plt.title('Cross-entropy')\n",
        "\n",
        "plt.subplot(1, 2, 2)\n",
        "plt.plot(classifier.history.history['sparse_categorical_accuracy'], label='train')\n",
        "plt.plot(classifier.history.history['val_sparse_categorical_accuracy'], label='test')\n",
        "plt.legend()\n",
        "plt.title('Accuracy')\n",
        "plt.show();\n"
      ],
      "execution_count": 0,
      "outputs": [
        {
          "output_type": "display_data",
          "data": {
            "image/png": "[encoded data removed]",
            "text/plain": [
              "<Figure size 1152x504 with 2 Axes>"
            ]
          },
          "metadata": {
            "tags": []
          }
        }
      ]
    },
    {
      "cell_type": "markdown",
      "metadata": {
        "id": "CW-XJk21B-2O",
        "colab_type": "text"
      },
      "source": [
        "Now let's imagine we have similar architecture to train from scratch on just 300 objects:"
      ]
    },
    {
      "cell_type": "code",
      "metadata": {
        "id": "5JEs5ce0_mii",
        "colab_type": "code",
        "outputId": "00d903bd-e877-4bb1-d9d0-adffa33c8126",
        "colab": {
          "base_uri": "https://localhost:8080/",
          "height": 221
        }
      },
      "source": [
        "encoder.trainable = True\n",
        "encoder.load_weights('encoder_untrained.h5')\n",
        "\n",
        "classifier = tf.keras.Sequential([\n",
        "  encoder,\n",
        "  ll.Dense(10),\n",
        "  ],\n",
        "  name='classifier')\n",
        "\n",
        "classifier.summary()\n",
        "classifier.compile(optimizer=tf.optimizers.Adam(learning_rate=0.01), loss=tf.losses.SparseCategoricalCrossentropy(from_logits=True),\n",
        "                   metrics=[tf.metrics.SparseCategoricalAccuracy()])"
      ],
      "execution_count": 0,
      "outputs": [
        {
          "output_type": "stream",
          "text": [
            "Model: \"classifier\"\n",
            "_________________________________________________________________\n",
            "Layer (type)                 Output Shape              Param #   \n",
            "=================================================================\n",
            "encoder (Sequential)         (None, 32)                400544    \n",
            "_________________________________________________________________\n",
            "dense_1 (Dense)              (None, 10)                330       \n",
            "=================================================================\n",
            "Total params: 400,874\n",
            "Trainable params: 400,874\n",
            "Non-trainable params: 0\n",
            "_________________________________________________________________\n"
          ],
          "name": "stdout"
        }
      ]
    },
    {
      "cell_type": "code",
      "metadata": {
        "id": "FnKHwckQAUR_",
        "colab_type": "code",
        "outputId": "a62cd958-0c09-4e18-cb6e-5993bd198c1d",
        "colab": {
          "base_uri": "https://localhost:8080/",
          "height": 1000
        }
      },
      "source": [
        "classifier.fit(x=X_train[:300], y=y_train[:300], batch_size=64, epochs=50, validation_data=(X_test, y_test));"
      ],
      "execution_count": 0,
      "outputs": [
        {
          "output_type": "stream",
          "text": [
            "Train on 300 samples, validate on 10000 samples\n",
            "Epoch 1/50\n",
            "300/300 [==============================] - 2s 6ms/sample - loss: 3.5724 - sparse_categorical_accuracy: 0.1267 - val_loss: 2.3028 - val_sparse_categorical_accuracy: 0.0980\n",
            "Epoch 2/50\n",
            "300/300 [==============================] - 1s 2ms/sample - loss: 2.2978 - sparse_categorical_accuracy: 0.1133 - val_loss: 2.3040 - val_sparse_categorical_accuracy: 0.0980\n",
            "Epoch 3/50\n",
            "300/300 [==============================] - 1s 2ms/sample - loss: 2.2957 - sparse_categorical_accuracy: 0.1133 - val_loss: 2.3042 - val_sparse_categorical_accuracy: 0.1010\n",
            "Epoch 4/50\n",
            "300/300 [==============================] - 1s 2ms/sample - loss: 2.2898 - sparse_categorical_accuracy: 0.1267 - val_loss: 2.3000 - val_sparse_categorical_accuracy: 0.2522\n",
            "Epoch 5/50\n",
            "300/300 [==============================] - 1s 2ms/sample - loss: 2.2671 - sparse_categorical_accuracy: 0.2267 - val_loss: 2.2588 - val_sparse_categorical_accuracy: 0.2473\n",
            "Epoch 6/50\n",
            "300/300 [==============================] - 1s 3ms/sample - loss: 2.1223 - sparse_categorical_accuracy: 0.2800 - val_loss: 2.0609 - val_sparse_categorical_accuracy: 0.3242\n",
            "Epoch 7/50\n",
            "300/300 [==============================] - 1s 2ms/sample - loss: 1.7977 - sparse_categorical_accuracy: 0.4300 - val_loss: 1.7885 - val_sparse_categorical_accuracy: 0.4022\n",
            "Epoch 8/50\n",
            "300/300 [==============================] - 1s 2ms/sample - loss: 1.4034 - sparse_categorical_accuracy: 0.5433 - val_loss: 1.6791 - val_sparse_categorical_accuracy: 0.5348\n",
            "Epoch 9/50\n",
            "300/300 [==============================] - 1s 2ms/sample - loss: 1.0529 - sparse_categorical_accuracy: 0.6800 - val_loss: 1.8162 - val_sparse_categorical_accuracy: 0.6077\n",
            "Epoch 10/50\n",
            "300/300 [==============================] - 1s 3ms/sample - loss: 0.7249 - sparse_categorical_accuracy: 0.7667 - val_loss: 1.2274 - val_sparse_categorical_accuracy: 0.6424\n",
            "Epoch 11/50\n",
            "300/300 [==============================] - 1s 2ms/sample - loss: 0.6787 - sparse_categorical_accuracy: 0.7700 - val_loss: 1.2560 - val_sparse_categorical_accuracy: 0.6724\n",
            "Epoch 12/50\n",
            "300/300 [==============================] - 1s 2ms/sample - loss: 0.4808 - sparse_categorical_accuracy: 0.8467 - val_loss: 1.0470 - val_sparse_categorical_accuracy: 0.7085\n",
            "Epoch 13/50\n",
            "300/300 [==============================] - 1s 2ms/sample - loss: 0.3993 - sparse_categorical_accuracy: 0.8567 - val_loss: 1.0831 - val_sparse_categorical_accuracy: 0.7110\n",
            "Epoch 14/50\n",
            "300/300 [==============================] - 1s 2ms/sample - loss: 0.2808 - sparse_categorical_accuracy: 0.9233 - val_loss: 1.0554 - val_sparse_categorical_accuracy: 0.7409\n",
            "Epoch 15/50\n",
            "300/300 [==============================] - 1s 2ms/sample - loss: 0.2025 - sparse_categorical_accuracy: 0.9267 - val_loss: 1.3151 - val_sparse_categorical_accuracy: 0.7183\n",
            "Epoch 16/50\n",
            "300/300 [==============================] - 1s 2ms/sample - loss: 0.1836 - sparse_categorical_accuracy: 0.9400 - val_loss: 1.2837 - val_sparse_categorical_accuracy: 0.7525\n",
            "Epoch 17/50\n",
            "300/300 [==============================] - 1s 2ms/sample - loss: 0.1068 - sparse_categorical_accuracy: 0.9533 - val_loss: 1.3931 - val_sparse_categorical_accuracy: 0.7625\n",
            "Epoch 18/50\n",
            "300/300 [==============================] - 1s 2ms/sample - loss: 0.0687 - sparse_categorical_accuracy: 0.9733 - val_loss: 1.5134 - val_sparse_categorical_accuracy: 0.7507\n",
            "Epoch 19/50\n",
            "300/300 [==============================] - 1s 2ms/sample - loss: 0.0527 - sparse_categorical_accuracy: 0.9900 - val_loss: 1.8186 - val_sparse_categorical_accuracy: 0.7509\n",
            "Epoch 20/50\n",
            "300/300 [==============================] - 1s 2ms/sample - loss: 0.0434 - sparse_categorical_accuracy: 0.9767 - val_loss: 1.8491 - val_sparse_categorical_accuracy: 0.7645\n",
            "Epoch 21/50\n",
            "300/300 [==============================] - 1s 2ms/sample - loss: 0.0220 - sparse_categorical_accuracy: 0.9967 - val_loss: 1.7752 - val_sparse_categorical_accuracy: 0.7670\n",
            "Epoch 22/50\n",
            "300/300 [==============================] - 1s 2ms/sample - loss: 0.0097 - sparse_categorical_accuracy: 1.0000 - val_loss: 1.8721 - val_sparse_categorical_accuracy: 0.7744\n",
            "Epoch 23/50\n",
            "300/300 [==============================] - 1s 2ms/sample - loss: 0.0139 - sparse_categorical_accuracy: 0.9967 - val_loss: 1.9018 - val_sparse_categorical_accuracy: 0.7753\n",
            "Epoch 24/50\n",
            "300/300 [==============================] - 1s 2ms/sample - loss: 0.0040 - sparse_categorical_accuracy: 1.0000 - val_loss: 2.1577 - val_sparse_categorical_accuracy: 0.7553\n",
            "Epoch 25/50\n",
            "300/300 [==============================] - 1s 3ms/sample - loss: 0.0049 - sparse_categorical_accuracy: 1.0000 - val_loss: 2.0830 - val_sparse_categorical_accuracy: 0.7777\n",
            "Epoch 26/50\n",
            "300/300 [==============================] - 1s 2ms/sample - loss: 0.0010 - sparse_categorical_accuracy: 1.0000 - val_loss: 2.2800 - val_sparse_categorical_accuracy: 0.7735\n",
            "Epoch 27/50\n",
            "300/300 [==============================] - 1s 2ms/sample - loss: 0.0017 - sparse_categorical_accuracy: 1.0000 - val_loss: 2.4513 - val_sparse_categorical_accuracy: 0.7700\n",
            "Epoch 28/50\n",
            "300/300 [==============================] - 1s 2ms/sample - loss: 0.0011 - sparse_categorical_accuracy: 1.0000 - val_loss: 2.4630 - val_sparse_categorical_accuracy: 0.7746\n",
            "Epoch 29/50\n",
            "300/300 [==============================] - 1s 3ms/sample - loss: 4.9898e-04 - sparse_categorical_accuracy: 1.0000 - val_loss: 2.4260 - val_sparse_categorical_accuracy: 0.7780\n",
            "Epoch 30/50\n",
            "300/300 [==============================] - 1s 2ms/sample - loss: 3.9372e-04 - sparse_categorical_accuracy: 1.0000 - val_loss: 2.4036 - val_sparse_categorical_accuracy: 0.7777\n",
            "Epoch 31/50\n",
            "300/300 [==============================] - 1s 2ms/sample - loss: 3.3897e-04 - sparse_categorical_accuracy: 1.0000 - val_loss: 2.3965 - val_sparse_categorical_accuracy: 0.7772\n",
            "Epoch 32/50\n",
            "300/300 [==============================] - 1s 2ms/sample - loss: 2.8366e-04 - sparse_categorical_accuracy: 1.0000 - val_loss: 2.4077 - val_sparse_categorical_accuracy: 0.7771\n",
            "Epoch 33/50\n",
            "300/300 [==============================] - 1s 2ms/sample - loss: 2.2671e-04 - sparse_categorical_accuracy: 1.0000 - val_loss: 2.4290 - val_sparse_categorical_accuracy: 0.7779\n",
            "Epoch 34/50\n",
            "300/300 [==============================] - 1s 2ms/sample - loss: 1.8792e-04 - sparse_categorical_accuracy: 1.0000 - val_loss: 2.4478 - val_sparse_categorical_accuracy: 0.7777\n",
            "Epoch 35/50\n",
            "300/300 [==============================] - 1s 2ms/sample - loss: 1.6112e-04 - sparse_categorical_accuracy: 1.0000 - val_loss: 2.4647 - val_sparse_categorical_accuracy: 0.7779\n",
            "Epoch 36/50\n",
            "300/300 [==============================] - 1s 3ms/sample - loss: 1.4237e-04 - sparse_categorical_accuracy: 1.0000 - val_loss: 2.4778 - val_sparse_categorical_accuracy: 0.7786\n",
            "Epoch 37/50\n",
            "300/300 [==============================] - 1s 3ms/sample - loss: 1.2648e-04 - sparse_categorical_accuracy: 1.0000 - val_loss: 2.4836 - val_sparse_categorical_accuracy: 0.7794\n",
            "Epoch 38/50\n",
            "300/300 [==============================] - 1s 3ms/sample - loss: 1.1574e-04 - sparse_categorical_accuracy: 1.0000 - val_loss: 2.4886 - val_sparse_categorical_accuracy: 0.7798\n",
            "Epoch 39/50\n",
            "300/300 [==============================] - 1s 3ms/sample - loss: 1.0666e-04 - sparse_categorical_accuracy: 1.0000 - val_loss: 2.4925 - val_sparse_categorical_accuracy: 0.7803\n",
            "Epoch 40/50\n",
            "300/300 [==============================] - 1s 3ms/sample - loss: 1.0001e-04 - sparse_categorical_accuracy: 1.0000 - val_loss: 2.4959 - val_sparse_categorical_accuracy: 0.7802\n",
            "Epoch 41/50\n",
            "300/300 [==============================] - 1s 3ms/sample - loss: 9.3382e-05 - sparse_categorical_accuracy: 1.0000 - val_loss: 2.5001 - val_sparse_categorical_accuracy: 0.7814\n",
            "Epoch 42/50\n",
            "300/300 [==============================] - 1s 3ms/sample - loss: 8.8005e-05 - sparse_categorical_accuracy: 1.0000 - val_loss: 2.5067 - val_sparse_categorical_accuracy: 0.7807\n",
            "Epoch 43/50\n",
            "300/300 [==============================] - 1s 3ms/sample - loss: 8.3495e-05 - sparse_categorical_accuracy: 1.0000 - val_loss: 2.5112 - val_sparse_categorical_accuracy: 0.7816\n",
            "Epoch 44/50\n",
            "300/300 [==============================] - 1s 3ms/sample - loss: 7.9166e-05 - sparse_categorical_accuracy: 1.0000 - val_loss: 2.5162 - val_sparse_categorical_accuracy: 0.7817\n",
            "Epoch 45/50\n",
            "300/300 [==============================] - 1s 3ms/sample - loss: 7.5700e-05 - sparse_categorical_accuracy: 1.0000 - val_loss: 2.5194 - val_sparse_categorical_accuracy: 0.7815\n",
            "Epoch 46/50\n",
            "300/300 [==============================] - 1s 3ms/sample - loss: 7.1376e-05 - sparse_categorical_accuracy: 1.0000 - val_loss: 2.5246 - val_sparse_categorical_accuracy: 0.7820\n",
            "Epoch 47/50\n",
            "300/300 [==============================] - 1s 3ms/sample - loss: 6.8204e-05 - sparse_categorical_accuracy: 1.0000 - val_loss: 2.5296 - val_sparse_categorical_accuracy: 0.7821\n",
            "Epoch 48/50\n",
            "300/300 [==============================] - 1s 3ms/sample - loss: 6.5220e-05 - sparse_categorical_accuracy: 1.0000 - val_loss: 2.5357 - val_sparse_categorical_accuracy: 0.7820\n",
            "Epoch 49/50\n",
            "300/300 [==============================] - 1s 3ms/sample - loss: 6.2520e-05 - sparse_categorical_accuracy: 1.0000 - val_loss: 2.5410 - val_sparse_categorical_accuracy: 0.7820\n",
            "Epoch 50/50\n",
            "300/300 [==============================] - 1s 3ms/sample - loss: 5.9972e-05 - sparse_categorical_accuracy: 1.0000 - val_loss: 2.5466 - val_sparse_categorical_accuracy: 0.7818\n"
          ],
          "name": "stdout"
        }
      ]
    },
    {
      "cell_type": "markdown",
      "metadata": {
        "id": "0ERclRvvCWwi",
        "colab_type": "text"
      },
      "source": [
        "This results in a heavy overfit:"
      ]
    },
    {
      "cell_type": "code",
      "metadata": {
        "id": "6k8B15e9Ajyv",
        "colab_type": "code",
        "outputId": "5eee7ff7-9dbd-4f0a-9282-4cc4dd6446e9",
        "colab": {
          "base_uri": "https://localhost:8080/",
          "height": 444
        }
      },
      "source": [
        "plt.figure(figsize=(16, 7))\n",
        "plt.subplot(1, 2, 1)\n",
        "plt.plot(classifier.history.history['loss'], label='train')\n",
        "plt.plot(classifier.history.history['val_loss'], label='test')\n",
        "plt.legend()\n",
        "plt.title('Cross-entropy')\n",
        "\n",
        "plt.subplot(1, 2, 2)\n",
        "plt.plot(classifier.history.history['sparse_categorical_accuracy'], label='train')\n",
        "plt.plot(classifier.history.history['val_sparse_categorical_accuracy'], label='test')\n",
        "plt.legend()\n",
        "plt.title('Accuracy')\n",
        "plt.show();\n"
      ],
      "execution_count": 0,
      "outputs": [
        {
          "output_type": "display_data",
          "data": {
            "image/png": "[encoded data removed]",
            "text/plain": [
              "<Figure size 1152x504 with 2 Axes>"
            ]
          },
          "metadata": {
            "tags": []
          }
        }
      ]
    },
    {
      "cell_type": "markdown",
      "metadata": {
        "id": "W5-oJn2BCh0H",
        "colab_type": "text"
      },
      "source": [
        "# Exercise\n",
        "\n",
        "Try re-writing the code above to train the autoencoder and the classifier simultaneously."
      ]
    },
    {
      "cell_type": "code",
      "metadata": {
        "id": "aJuTzBRnCvET",
        "colab_type": "code",
        "colab": {}
      },
      "source": [
        ""
      ],
      "execution_count": 0,
      "outputs": []
    }
  ]
}